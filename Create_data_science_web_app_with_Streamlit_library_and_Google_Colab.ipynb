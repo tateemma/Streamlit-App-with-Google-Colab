{
  "nbformat": 4,
  "nbformat_minor": 0,
  "metadata": {
    "colab": {
      "name": "Create data science web app with Streamlit library and Google Colab.ipynb",
      "provenance": [],
      "collapsed_sections": [],
      "authorship_tag": "ABX9TyMCWMQHh1MvJ4b+5maTyc27",
      "include_colab_link": true
    },
    "kernelspec": {
      "name": "python3",
      "display_name": "Python 3"
    }
  },
  "cells": [
    {
      "cell_type": "markdown",
      "metadata": {
        "id": "view-in-github",
        "colab_type": "text"
      },
      "source": [
        "<a href=\"https://colab.research.google.com/github/tateemma/Streamlit-App-with-Google-Colab/blob/main/Create_data_science_web_app_with_Streamlit_library_and_Google_Colab.ipynb\" target=\"_parent\"><img src=\"https://colab.research.google.com/assets/colab-badge.svg\" alt=\"Open In Colab\"/></a>"
      ]
    },
    {
      "cell_type": "markdown",
      "metadata": {
        "id": "9pNV_-fN7kFm"
      },
      "source": [
        "## Building data science web app using Streamlit library\n",
        "\n",
        "Tutorial by Data Professor on https://www.youtube.com/watch?v=8M20LyCZDOY&list=PLtqF5YXg7GLmCvTswG32NqQypOuYkPRUE&index=2\n",
        "\n",
        "Code available at https://github.com/dataprofessor/code/blob/master/streamlit/part2/iris-ml-app.py"
      ]
    },
    {
      "cell_type": "markdown",
      "metadata": {
        "id": "QxT2h4gazsuB"
      },
      "source": [
        "Used some of the code from https://colab.research.google.com/github/mrm8488/shared_colab_notebooks/blob/master/Create_streamlit_app.ipynb#scrollTo=IFvZnzS4vr88 for ngrok\n"
      ]
    },
    {
      "cell_type": "code",
      "metadata": {
        "id": "6e7LylHWxLWD"
      },
      "source": [
        "#install streamlit, one time execution\r\n",
        "!pip install streamlit"
      ],
      "execution_count": null,
      "outputs": []
    },
    {
      "cell_type": "code",
      "metadata": {
        "id": "vuQ_jwXnBddn"
      },
      "source": [
        "#import streamlit\r\n",
        "import streamlit as st"
      ],
      "execution_count": 1,
      "outputs": []
    },
    {
      "cell_type": "markdown",
      "metadata": {
        "id": "kKzJDLa39599"
      },
      "source": [
        "## Simple iris flower prediction"
      ]
    },
    {
      "cell_type": "markdown",
      "metadata": {
        "id": "Y2cDGpA-4_2l"
      },
      "source": [
        "write to file app.py"
      ]
    },
    {
      "cell_type": "code",
      "metadata": {
        "id": "jHhIDgwJ4OQd",
        "colab": {
          "base_uri": "https://localhost:8080/"
        },
        "outputId": "1e54651e-df6b-4541-a4bc-2b1e6f88efc1"
      },
      "source": [
        "%%writefile app.py\r\n",
        "import numpy as np\r\n",
        "import streamlit as st\r\n",
        "import pandas as pd\r\n",
        "from sklearn import datasets\r\n",
        "from sklearn.ensemble import RandomForestClassifier\r\n",
        "\r\n",
        "st.write(''' # Simple Iris Flower Prediction App''')\r\n",
        "\r\n",
        "st.sidebar.header('User Input Parameters')\r\n",
        "\r\n",
        "def user_input_features():\r\n",
        "  sepal_length = st.sidebar.slider('sepal_length', 4.3, 7.9, 5.4)\r\n",
        "  sepal_width = st.sidebar.slider('sepal_width', 2.0, 4.4, 3.4)\r\n",
        "  petal_length = st.sidebar.slider('petal_length', 1.0, 6.9, 1.3)\r\n",
        "  petal_width = st.sidebar.slider('petal_width', 0.1, 2.5, 0.2)\r\n",
        "\r\n",
        "  user_input_data = {'sepal_length': sepal_length,\r\n",
        "               ' sepal_width': sepal_width,\r\n",
        "               'petal_length': petal_length,\r\n",
        "               'petal_width': petal_width}\r\n",
        "\r\n",
        "  features = pd.DataFrame(user_input_data, index=[0])\r\n",
        "\r\n",
        "  return features\r\n",
        "\r\n",
        "df = user_input_features()\r\n",
        "\r\n",
        "st.subheader('User Input Parameters')\r\n",
        "st.write(df)\r\n",
        "\r\n",
        "iris = datasets.load_iris()\r\n",
        "X = iris.data\r\n",
        "Y = iris.target\r\n",
        "\r\n",
        "classifier = RandomForestClassifier()\r\n",
        "classifier.fit(X, Y)\r\n",
        "\r\n",
        "prediction = classifier.predict(df)\r\n",
        "prediction_probabilities = classifier.predict_proba(df)\r\n",
        "\r\n",
        "st.subheader('Prediction')\r\n",
        "st.write(iris.target_names[prediction])\r\n",
        "\r\n",
        "st.subheader('Class labels and their corresponding index number')\r\n",
        "st.write(iris.target_names)\r\n",
        "\r\n",
        "st.subheader('Prediction Probability')\r\n",
        "st.write(prediction_probabilities)"
      ],
      "execution_count": 2,
      "outputs": [
        {
          "output_type": "stream",
          "text": [
            "Overwriting app.py\n"
          ],
          "name": "stdout"
        }
      ]
    },
    {
      "cell_type": "code",
      "metadata": {
        "id": "kZOSiSiiztQq"
      },
      "source": [
        "!wget https://bin.equinox.io/c/4VmDzA7iaHb/ngrok-stable-linux-amd64.zip"
      ],
      "execution_count": null,
      "outputs": []
    },
    {
      "cell_type": "code",
      "metadata": {
        "id": "b3141DM5zwyB",
        "colab": {
          "base_uri": "https://localhost:8080/"
        },
        "outputId": "aff26dda-863e-4151-88e0-42a881081688"
      },
      "source": [
        "!unzip ngrok-stable-linux-amd64.zip"
      ],
      "execution_count": 4,
      "outputs": [
        {
          "output_type": "stream",
          "text": [
            "Archive:  ngrok-stable-linux-amd64.zip\n",
            "  inflating: ngrok                   \n"
          ],
          "name": "stdout"
        }
      ]
    },
    {
      "cell_type": "code",
      "metadata": {
        "id": "i9WSz9VnBPRv"
      },
      "source": [
        "get_ipython().system_raw('./ngrok http 8501 &')"
      ],
      "execution_count": 9,
      "outputs": []
    },
    {
      "cell_type": "code",
      "metadata": {
        "colab": {
          "base_uri": "https://localhost:8080/"
        },
        "id": "6gKexSmYBPR6",
        "outputId": "0b337f39-1c1e-46de-c164-6390c5b85ba5"
      },
      "source": [
        "!curl -s http://localhost:4040/api/tunnels | python3 -c \\\n",
        "    'import sys, json; print(\"Execute the next cell and the go to the following URL: \" +json.load(sys.stdin)[\"tunnels\"][0][\"public_url\"])'"
      ],
      "execution_count": 10,
      "outputs": [
        {
          "output_type": "stream",
          "text": [
            "Execute the next cell and the go to the following URL: https://ab9834a6e0bb.ngrok.io\n"
          ],
          "name": "stdout"
        }
      ]
    },
    {
      "cell_type": "code",
      "metadata": {
        "colab": {
          "base_uri": "https://localhost:8080/"
        },
        "id": "2xXmArXtBPR6",
        "outputId": "3d5bb43a-82a7-43d1-d45b-2346c72366b2"
      },
      "source": [
        "!streamlit run /content/app.py"
      ],
      "execution_count": 11,
      "outputs": [
        {
          "output_type": "stream",
          "text": [
            "\u001b[0m\n",
            "\u001b[34m\u001b[1m  You can now view your Streamlit app in your browser.\u001b[0m\n",
            "\u001b[0m\n",
            "\u001b[34m  Network URL: \u001b[0m\u001b[1mhttp://172.28.0.2:8501\u001b[0m\n",
            "\u001b[34m  External URL: \u001b[0m\u001b[1mhttp://35.221.178.32:8501\u001b[0m\n",
            "\u001b[0m\n",
            "\u001b[34m  Stopping...\u001b[0m\n"
          ],
          "name": "stdout"
        }
      ]
    }
  ]
}